{
  "cells": [
    {
      "cell_type": "markdown",
      "id": "aca0353b",
      "metadata": {
        "id": "aca0353b"
      },
      "source": [
        "# Домашнее задание 3. Парсинг, Git и тестирование на Python\n",
        "\n",
        "**Цели задания:**\n",
        "\n",
        "* Освоить базовые подходы к web-scraping с библиотеками `requests` и `BeautisulSoup`: навигация по страницам, извлечение HTML-элементов, парсинг.\n",
        "* Научиться автоматизировать задачи с использованием библиотеки `schedule`.\n",
        "* Попрактиковаться в использовании Git и оформлении проектов на GitHub.\n",
        "* Написать и запустить простые юнит-тесты с использованием `pytest`.\n",
        "\n",
        "\n",
        "В этом домашнем задании вы разработаете систему для автоматического сбора данных о книгах с сайта [Books to Scrape](http://books.toscrape.com). Нужно реализовать функции для парсинга всех страниц сайта, извлечения информации о книгах, автоматического ежедневного запуска задачи и сохранения результата.\n",
        "\n",
        "Важной частью задания станет оформление проекта: вы создадите репозиторий на GitHub, оформите `README.md`, добавите артефакты (код, данные, отчеты) и напишете базовые тесты на `pytest`.\n",
        "\n"
      ]
    },
    {
      "cell_type": "code",
      "execution_count": null,
      "id": "K3JMV0qwmA_q",
      "metadata": {
        "id": "K3JMV0qwmA_q"
      },
      "outputs": [],
      "source": [
        "! pip install -q schedule pytest # установка библиотек, если ещё не"
      ]
    },
    {
      "cell_type": "code",
      "execution_count": null,
      "id": "873d4904",
      "metadata": {
        "id": "873d4904"
      },
      "outputs": [],
      "source": [
        "# Библиотеки, которые могут вам понадобиться\n",
        "# При необходимости расширяйте список\n",
        "import os\n",
        "import sys\n",
        "import time\n",
        "import requests\n",
        "import schedule\n",
        "\n",
        "from bs4 import BeautifulSoup\n",
        "\n",
        "sys.path.append(os.path.abspath('..'))\n",
        "import src.constants as const"
      ]
    },
    {
      "cell_type": "markdown",
      "id": "unTvsWaegHdj",
      "metadata": {
        "id": "unTvsWaegHdj"
      },
      "source": [
        "## Задание 1. Сбор данных об одной книге (20 баллов)\n",
        "\n",
        "В этом задании мы начнем подготовку скрипта для парсинга информации о книгах со страниц каталога сайта [Books to Scrape](https://books.toscrape.com/).\n",
        "\n",
        "Для начала реализуйте функцию `get_book_data`, которая будет получать данные о книге с одной страницы (например, с [этой](http://books.toscrape.com/catalogue/a-light-in-the-attic_1000/index.html)). Соберите всю информацию, включая название, цену, рейтинг, количество в наличии, описание и дополнительные характеристики из таблицы Product Information. Результат достаточно вернуть в виде словаря.\n",
        "\n",
        "**Не забывайте про соблюдение PEP-8** — помимо качественно написанного кода важно также документировать функции по стандарту:\n",
        "* кратко описать, что она делает и для чего нужна;\n",
        "* какие входные аргументы принимает, какого они типа и что означают по смыслу;\n",
        "* аналогично описать возвращаемые значения.\n",
        "\n",
        "*P. S. Состав, количество аргументов функции и тип возвращаемого значения можете менять как вам удобно. То, что написано ниже в шаблоне — лишь пример.*"
      ]
    },
    {
      "cell_type": "code",
      "execution_count": null,
      "id": "UfD2vAjHkEoS",
      "metadata": {
        "id": "UfD2vAjHkEoS"
      },
      "outputs": [],
      "source": [
        "def get_book_data(book_url: str) -> dict:\n",
        "    \"\"\"\n",
        "    МЕСТО ДЛЯ ДОКУМЕНТАЦИИ\n",
        "    \"\"\"\n",
        "    # НАЧАЛО ВАШЕГО РЕШЕНИЯ\n",
        "    book_data = {}\n",
        "    response = requests.get(book_url)\n",
        "    response.raise_for_status()\n",
        "    soup = BeautifulSoup(response.text, \"html.parser\")\n",
        "\n",
        "    # основная информация\n",
        "    main_data = soup.find(class_=\"col-sm-6 product_main\")\n",
        "\n",
        "    if not main_data:\n",
        "        raise ValueError(\"Не найдена основная информация о книге\")\n",
        "\n",
        "    title = main_data.find(\"h1\")\n",
        "    book_data[\"title\"] = title.get_text(strip=True) if title else const.EMPTY_DATA\n",
        "    \n",
        "    price = main_data.find(class_=\"price_color\")\n",
        "    if price:\n",
        "        price = price.text.replace(\"Â\", \"\")\n",
        "        book_data[\"price\"] = price\n",
        "    else:\n",
        "        book_data[\"price\"] = const.EMPTY_DATA\n",
        "\n",
        "    available = main_data.find(class_=\"instock availability\")\n",
        "    if available:\n",
        "        available_data = available.get_text(strip=True)\n",
        "        available = int(\"\".join(i for i in available_data if i.isdigit()))\n",
        "        book_data[\"available\"] = available\n",
        "    else:\n",
        "        book_data[\"available\"] = const.EMPTY_DATA\n",
        "\n",
        "    rating_class = main_data.find(class_=\"star-rating\")\n",
        "    _, rating = rating_class[\"class\"]\n",
        "    book_data[\"rating\"] = (\n",
        "        const.RATING_MAP.get(rating, const.UNKNOWN_RATING)\n",
        "        if rating else const.EMPTY_DATA\n",
        "    )\n",
        "    \n",
        "    # описание\n",
        "    sub_header = soup.find(id=\"product_description\")\n",
        "    description = sub_header.find_next(\"p\")\n",
        "    book_data[\"description\"] = (\n",
        "        description.get_text(strip=True)\n",
        "        if description else const.EMPTY_DATA\n",
        "    )\n",
        "\n",
        "    # таблица\n",
        "    product_table = soup.find(class_=\"table table-striped\")\n",
        "    rows = product_table.select(\"tr\")\n",
        "    book_table_info = {}\n",
        "    for row in rows:\n",
        "        key = row.select_one(\"th\").get_text(strip=True)\n",
        "        value = row.select_one(\"td\").get_text(strip=True)\n",
        "\n",
        "        if \"Price\" in key or \"Tax\" in key:\n",
        "          value = value.replace(\"Â\", \"\")\n",
        "\n",
        "        book_table_info[key] = value\n",
        "\n",
        "    book_data[\"product_info\"] = book_table_info\n",
        "\n",
        "    print(book_data)"
      ]
    },
    {
      "cell_type": "code",
      "execution_count": null,
      "id": "moRSO9Itp1LT",
      "metadata": {
        "id": "moRSO9Itp1LT"
      },
      "outputs": [],
      "source": [
        "# Используйте для самопроверки\n",
        "book_url = \"http://books.toscrape.com/catalogue/a-light-in-the-attic_1000/index.html\"\n",
        "get_book_data(book_url)"
      ]
    },
    {
      "cell_type": "markdown",
      "id": "u601Q4evosq6",
      "metadata": {
        "id": "u601Q4evosq6"
      },
      "source": [
        "## Задание 2. Сбор данных обо всех книгах (20 баллов)\n",
        "\n",
        "Создайте функцию `scrape_books`, которая будет проходиться по всем страницам из каталога (вида `http://books.toscrape.com/catalogue/page-{N}.html`) и осуществлять парсинг всех страниц в цикле, используя ранее написанную `get_book_data`.\n",
        "\n",
        "Добавьте аргумент-флаг, который будет отвечать за сохранение результата в файл: если он будет равен `True`, то информация сохранится в ту же папку в файл `books_data.txt`; иначе шаг сохранения будет пропущен.\n",
        "\n",
        "**Также не забывайте про соблюдение PEP-8**"
      ]
    },
    {
      "cell_type": "code",
      "execution_count": null,
      "id": "kk78l6oDkdxl",
      "metadata": {
        "id": "kk78l6oDkdxl"
      },
      "outputs": [],
      "source": [
        "def scrape_books():\n",
        "    \"\"\"\n",
        "    МЕСТО ДЛЯ ДОКУМЕНТАЦИИ\n",
        "    \"\"\"\n",
        "\n",
        "    # НАЧАЛО ВАШЕГО РЕШЕНИЯ\n",
        "\n",
        "    # КОНЕЦ ВАШЕГО РЕШЕНИЯ"
      ]
    },
    {
      "cell_type": "code",
      "execution_count": null,
      "id": "Bt7mrXcbkj5Q",
      "metadata": {
        "id": "Bt7mrXcbkj5Q"
      },
      "outputs": [],
      "source": [
        "# Проверка работоспособности функции\n",
        "res = scrape_books(is_save=True) # Допишите ваши аргументы\n",
        "print(type(res), len(res)) # и проверки"
      ]
    },
    {
      "cell_type": "markdown",
      "id": "z5fd728nl8a8",
      "metadata": {
        "id": "z5fd728nl8a8"
      },
      "source": [
        "## Задание 3. Настройка регулярной выгрузки (10 баллов)\n",
        "\n",
        "Настройте автоматический запуск функции сбора данных каждый день в 19:00.\n",
        "Для автоматизации используйте библиотеку `schedule`. Функция должна запускаться в указанное время и сохранять обновленные данные в текстовый файл.\n",
        "\n",
        "\n",
        "\n",
        "Бесконечный цикл должен обеспечивать постоянное ожидание времени для запуска задачи и выполнять ее по расписанию. Однако чтобы не перегружать систему, стоит подумать о том, чтобы выполнять проверку нужного времени не постоянно, а раз в какой-то промежуток. В этом вам может помочь `time.sleep(...)`.\n",
        "\n",
        "Проверьте работоспособность кода локально на любом времени чч:мм.\n",
        "\n"
      ]
    },
    {
      "cell_type": "code",
      "execution_count": null,
      "id": "SajRRCj4n8BZ",
      "metadata": {
        "id": "SajRRCj4n8BZ"
      },
      "outputs": [],
      "source": [
        "# НАЧАЛО ВАШЕГО РЕШЕНИЯ\n",
        "\n",
        "# КОНЕЦ ВАШЕГО РЕШЕНИЯ"
      ]
    },
    {
      "cell_type": "markdown",
      "id": "XFiPtEyaoLxq",
      "metadata": {
        "id": "XFiPtEyaoLxq"
      },
      "source": [
        "## Задание 4. Написание автотестов (15 баллов)\n",
        "\n",
        "Создайте минимум три автотеста для ключевых функций парсинга — например, `get_book_data` и `scrape_books`. Идеи проверок (можете использовать свои):\n",
        "\n",
        "* данные о книге возвращаются в виде словаря с нужными ключами;\n",
        "* список ссылок или количество собранных книг соответствует ожиданиям;\n",
        "* значения отдельных полей (например, `title`) корректны.\n",
        "\n",
        "Оформите тесты в отдельном скрипте `tests/test_scraper.py`, используйте библиотеку `pytest`. Убедитесь, что тесты проходят успешно при запуске из терминала командой `pytest`.\n",
        "\n",
        "Также выведите результат их выполнения в ячейке ниже.\n",
        "\n",
        "**Не забывайте про соблюдение PEP-8**\n"
      ]
    },
    {
      "cell_type": "code",
      "execution_count": null,
      "id": "lBFAw4b3z8QY",
      "metadata": {
        "id": "lBFAw4b3z8QY"
      },
      "outputs": [],
      "source": [
        "# Ячейка для демонстрации работоспособности\n",
        "# Сам код напишите в отдельном скрипте\n",
        "! pytest test/test_scraper.py"
      ]
    },
    {
      "cell_type": "markdown",
      "id": "cRSQlHfRtOdN",
      "metadata": {
        "id": "cRSQlHfRtOdN"
      },
      "source": [
        "## Задание 5. Оформление проекта на GitHub и работа с Git (35 баллов)\n",
        "\n",
        "В этом задании нужно воспользоваться системой контроля версий Git и платформой GitHub для хранения и управления своим проектом. **Ссылку на свой репозиторий пришлите в форме для сдачи ответа.**\n",
        "\n",
        "### Пошаговая инструкция и задания\n",
        "\n",
        "**1. Установите Git на свой компьютер.**\n",
        "\n",
        "* Для Windows: [скачайте установщик](https://git-scm.com/downloads) и выполните установку.\n",
        "* Для macOS:\n",
        "\n",
        "  ```\n",
        "  brew install git\n",
        "  ```\n",
        "* Для Linux:\n",
        "\n",
        "  ```\n",
        "  sudo apt update\n",
        "  sudo apt install git\n",
        "  ```\n",
        "\n",
        "**2. Настройте имя пользователя и email.**\n",
        "\n",
        "Это нужно для подписи ваших коммитов, сделайте в терминале через `git config ...`.\n",
        "\n",
        "**3. Создайте аккаунт на GitHub**, если у вас его еще нет:\n",
        "[https://github.com](https://github.com)\n",
        "\n",
        "**4. Создайте новый репозиторий на GitHub:**\n",
        "\n",
        "* Найдите кнопку **New repository**.\n",
        "* Укажите название, краткое описание, выберите тип **Public** (чтобы мы могли проверить ДЗ).\n",
        "* Не ставьте галочку Initialize this repository with a README.\n",
        "\n",
        "**5. Создайте локальную папку с проектом.** Можно в терминале, можно через UI, это не имеет значения.\n",
        "\n",
        "**6. Инициализируйте Git в этой папке.** Здесь уже придется воспользоваться некоторой командой в терминале.\n",
        "\n",
        "**7. Привяжите локальный репозиторий к удаленному на GitHub.**\n",
        "\n",
        "**8. Создайте ветку разработки.** По умолчанию вы будете находиться в ветке `main`, создайте и переключитесь на ветку `hw-books-parser`.\n",
        "\n",
        "**9. Добавьте в проект следующие файлы и папки:**\n",
        "\n",
        "* `scraper.py` — ваш основной скрипт для сбора данных.\n",
        "* `README.md` — файл с кратким описанием проекта:\n",
        "\n",
        "  * цель;\n",
        "  * инструкции по запуску;\n",
        "  * список используемых библиотек.\n",
        "* `requirements.txt` — файл со списком зависимостей, необходимых для проекта (не присылайте все из глобального окружения, создайте изолированную виртуальную среду, добавьте в нее все нужное для проекта и получите список библиотек через `pip freeze`).\n",
        "* `artifacts/` — папка с результатами парсинга (`books_data.txt` — полностью или его часть, если весь не поместится на GitHub).\n",
        "* `notebooks/` — папка с заполненным ноутбуком `HW_03_python_ds_2025.ipynb` и запущенными ячейками с выводами на экран.\n",
        "* `tests/` — папка с тестами на `pytest`, оформите их в формате скрипта(-ов) с расширением `.py`.\n",
        "* `.gitignore` — стандартный файл, который позволит исключить временные файлы при добавлении в отслеживаемые (например, `__pycache__/`, `.DS_Store`, `*.pyc`, `venv/` и др.).\n",
        "\n",
        "\n",
        "**10. Сделайте коммит.**\n",
        "\n",
        "**11. Отправьте свою ветку на GitHub.**\n",
        "\n",
        "**12. Создайте Pull Request:**\n",
        "\n",
        "* Перейдите в репозиторий на GitHub.\n",
        "* Нажмите кнопку **Compare & pull request**.\n",
        "* Укажите, что было добавлено, и нажмите **Create pull request**.\n",
        "\n",
        "**13. Выполните слияние Pull Request:**\n",
        "\n",
        "* Убедитесь, что нет конфликтов.\n",
        "* Нажмите **Merge pull request**, затем **Confirm merge**.\n",
        "\n",
        "**14. Скачайте изменения из основной ветки локально.**\n",
        "\n",
        "\n",
        "\n",
        "### Требования к итоговому репозиторию\n",
        "\n",
        "* Файл `scraper.py` с рабочим кодом парсера.\n",
        "* `README.md` с описанием проекта и инструкцией по запуску.\n",
        "* Папка `artifacts/` с результатом сбора данных (`.txt` файл).\n",
        "* Папка `tests/` с тестами на `pytest`.\n",
        "* Папка `notebooks/` с заполненным ноутбуком `HW_03_python_ds_2025.ipynb`.\n",
        "* Pull Request с комментарием из ветки `hw-books-parser` в ветку `main`.\n",
        "* Примерная структура:\n",
        "\n",
        "  ```\n",
        "  books_scraper/\n",
        "  ├── artifacts/\n",
        "  │   └── books_data.txt\n",
        "  ├── notebooks/\n",
        "  │   └── HW_03_python_ds_2025.ipynb\n",
        "  ├── scraper.py\n",
        "  ├── README.md\n",
        "  ├── tests/\n",
        "  │   └── test_scraper.py\n",
        "  ├── .gitignore\n",
        "  └── requirements.txt\n",
        "  ```"
      ]
    }
  ],
  "metadata": {
    "colab": {
      "provenance": []
    },
    "kernelspec": {
      "display_name": "venv",
      "language": "python",
      "name": "python3"
    },
    "language_info": {
      "codemirror_mode": {
        "name": "ipython",
        "version": 3
      },
      "file_extension": ".py",
      "mimetype": "text/x-python",
      "name": "python",
      "nbconvert_exporter": "python",
      "pygments_lexer": "ipython3",
      "version": "3.12.3"
    }
  },
  "nbformat": 4,
  "nbformat_minor": 5
}
